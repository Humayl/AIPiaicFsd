{
 "cells": [
  {
   "cell_type": "markdown",
   "metadata": {},
   "source": [
    "# Class for Week 3 of Python\n",
    "Here is code notebook for class 3. You can practice it.\n",
    "\n",
    "## Assignment\n",
    "Your first assignment is to write code for list operations\n",
    "\n",
    "### 1. Indexing\n",
    "Write code for retriving values from list by indexing and print a statement message for given lists\n",
    "\n",
    "### Example 1\n",
    "employee_data = ['Ali', 125000, 'Google', 5]<br>\n",
    "output: 'Ali is working in Google for 5 years and his salary is 125000'\n",
    "\n",
    "## Solution (Code)"
   ]
  },
  {
   "cell_type": "code",
   "execution_count": 61,
   "metadata": {},
   "outputs": [
    {
     "name": "stdout",
     "output_type": "stream",
     "text": [
      "Ali is working in Google for 5 years and his salary is 125000\n"
     ]
    }
   ],
   "source": [
    "employee_data = ['Ali', 125000, 'Google', 5]\n",
    "print(\"{} is working in {} for {} years and his salary is {}\".format(employee_data[0],employee_data[2],\\\n",
    "                                                                     employee_data[3],employee_data[1]))"
   ]
  },
  {
   "cell_type": "markdown",
   "metadata": {},
   "source": [
    "\n",
    "### Example 2\n",
    "studentData = ['Ahmed', 'Bilal', 'Government College University', 'Computer Science', 'BS', 50000,\n",
    "\t\t\t\t'28 Januray 2020', '05 February 2020']<br>\n",
    "output:<br>\n",
    "\n",
    "'Hello Ahmed Bilal,<br>\n",
    "Your application is accepted for admission in \"BS Computer Science\" in Government College University.<br>\n",
    "You have to submit fee 50000 before 28 January 2020.<br>\n",
    "Your classes will start from 05 February 2020.<br>\n",
    "Thanks'<br>\n",
    "\n",
    "hint: Use list indexing and string format methods\n",
    "\n",
    "## Solution (Code)"
   ]
  },
  {
   "cell_type": "code",
   "execution_count": 62,
   "metadata": {},
   "outputs": [
    {
     "name": "stdout",
     "output_type": "stream",
     "text": [
      "Hello Ahmed Bilal,\n",
      "Your application is accepted for admission in \"BS Computer Science\" in Government College University.\n",
      "You have to submit fee 50000 before 28 Januray 2020.\n",
      "Your classes will start from 05 February 2020.\n",
      "Thanks'\n"
     ]
    }
   ],
   "source": [
    "studentData = ['Ahmed', 'Bilal', 'Government College University', 'Computer Science',\\\n",
    "               'BS', 50000, '28 Januray 2020', '05 February 2020']\n",
    "print(\"\"\"Hello {} {},\n",
    "Your application is accepted for admission in \"{} {}\" in {}.\n",
    "You have to submit fee {} before {}.\n",
    "Your classes will start from {}.\n",
    "Thanks'\"\"\".format(studentData[0],studentData[1],studentData[4],studentData[3],\\\n",
    "                  studentData[2],studentData[5],studentData[6],studentData[7]))"
   ]
  },
  {
   "cell_type": "markdown",
   "metadata": {},
   "source": [
    "## 2. Slicing<br>\n",
    "You have a list of cities given as follows. Use positive and negative slicing methods to print out following outputs:\n",
    "\n",
    "cities = [\"Faisalabad\", \"Lahore\", \"Islamabad\", \"Peshawar\", \"Quetta\", \"Sahiwal\", \"Rawalpindi\", \"Sialkot\"]<br>\n",
    "Outputs:\n",
    "### (For positive slicing)\n",
    "1. [\"Faisalabad\", \"Lahore\", \"Islamabad\", \"Peshawar\"]<br>\n",
    "2. [\"Islamabad\", \"Peshawar\", \"Quetta\", \"Sahiwal\"]<br>\n",
    "3. [\"Sahiwal\", \"Rawalpindi\", \"Sialkot\"]<br>\n",
    "\n",
    "## Solution (Code)"
   ]
  },
  {
   "cell_type": "code",
   "execution_count": 63,
   "metadata": {},
   "outputs": [
    {
     "name": "stdout",
     "output_type": "stream",
     "text": [
      "['Faisalabad', 'Lahore', 'Islamabad', 'Peshawar']\n",
      "['Islamabad', 'Peshawar', 'Quetta', 'Sahiwal']\n",
      "['Sahiwal', 'Rawalpindi', 'Sialkot']\n"
     ]
    }
   ],
   "source": [
    "cities = [\"Faisalabad\", \"Lahore\", \"Islamabad\", \"Peshawar\", \"Quetta\", \"Sahiwal\", \"Rawalpindi\", \"Sialkot\"]\n",
    "print(\"\"\"{}\n",
    "{}\n",
    "{}\"\"\".format(cities[0:4],cities[2:-2],cities[5:]))"
   ]
  },
  {
   "cell_type": "markdown",
   "metadata": {},
   "source": [
    "### (For negative slicing)\n",
    "1. ['Quetta', 'Sahiwal', 'Rawalpindi']<br>\n",
    "2. ['Peshawar', 'Quetta', 'Sahiwal', 'Rawalpindi', 'Sialkot']<br>\n",
    "\n",
    "## Solution (Code)"
   ]
  },
  {
   "cell_type": "code",
   "execution_count": 64,
   "metadata": {},
   "outputs": [
    {
     "name": "stdout",
     "output_type": "stream",
     "text": [
      "['Quetta', 'Sahiwal', 'Rawalpindi']\n",
      "['Peshawar', 'Quetta', 'Sahiwal', 'Rawalpindi', 'Sialkot']\n"
     ]
    }
   ],
   "source": [
    "print(\"\"\"{}\n",
    "{}\"\"\".format(cities[-4:-1],cities[-5:]))"
   ]
  },
  {
   "cell_type": "markdown",
   "metadata": {},
   "source": [
    "# 3. Update Lists\n",
    "## 3.1 You have a list of student information. You need to update it for following statements\n",
    "\n",
    "studentData = [\"Ali Raza\", 22, 91.24, \"Computer Science\", 5, \"University of Agriculture\"]<br>\n",
    "\n",
    "### 3.1.1 Add values to this list using append\n",
    "\n",
    "1. '20 February 2019'\n",
    "2. 8\n",
    "\n",
    "## Solution (Code)"
   ]
  },
  {
   "cell_type": "code",
   "execution_count": 65,
   "metadata": {},
   "outputs": [
    {
     "name": "stdout",
     "output_type": "stream",
     "text": [
      "['Ali Raza', 22, 91.24, 'Computer Science', 5, 'University of Agriculture', '20 February 2019', 8]\n"
     ]
    }
   ],
   "source": [
    "studentData = [\"Ali Raza\", 22, 91.24, \"Computer Science\", 5, \"University of Agriculture\"]\n",
    "studentData.append('20 February 2019') or studentData.append(8)\n",
    "print(studentData)"
   ]
  },
  {
   "cell_type": "markdown",
   "metadata": {},
   "source": [
    "### 3.1.2 Use insert method to insert at specific index\n",
    "\n",
    "1. 25000 at index 4\n",
    "2. 'M. Iqbal' at index 1\n",
    "\n",
    "## Solution (Code)"
   ]
  },
  {
   "cell_type": "code",
   "execution_count": 66,
   "metadata": {},
   "outputs": [
    {
     "name": "stdout",
     "output_type": "stream",
     "text": [
      "['Ali Raza', 'M. Iqbal', 22, 91.24, 'Computer Science', 2500, 5, 'University of Agriculture', '20 February 2019', 8]\n"
     ]
    }
   ],
   "source": [
    "studentData.insert(4, 2500)\n",
    "studentData.insert(1, \"M. Iqbal\")\n",
    "print(studentData)"
   ]
  },
  {
   "cell_type": "markdown",
   "metadata": {},
   "source": [
    "### 3.1.3 Update list using list update method:\n",
    "\n",
    "1. Change Name from 'Ali Raza' to 'Zohaib Ali'\n",
    "2. Change No of subjects from 5 to 7\n",
    "\n",
    "## Solution (Code)"
   ]
  },
  {
   "cell_type": "code",
   "execution_count": 67,
   "metadata": {},
   "outputs": [
    {
     "name": "stdout",
     "output_type": "stream",
     "text": [
      "['Zohaib Ali', 'M. Iqbal', 22, 91.24, 'Computer Science', 2500, 7, 'University of Agriculture', '20 February 2019', 8]\n"
     ]
    }
   ],
   "source": [
    "studentData[0]=\"Zohaib Ali\"\n",
    "studentData[6]= 7\n",
    "print(studentData)"
   ]
  },
  {
   "cell_type": "markdown",
   "metadata": {},
   "source": [
    "### 3.1.4 Remove values from list using remove method\n",
    "\n",
    "1. 'Computer Science'\n",
    "2. 91.24\n",
    "\n",
    "## Sloution (code)"
   ]
  },
  {
   "cell_type": "code",
   "execution_count": 68,
   "metadata": {},
   "outputs": [
    {
     "name": "stdout",
     "output_type": "stream",
     "text": [
      "['Zohaib Ali', 'M. Iqbal', 22, 2500, 7, 'University of Agriculture', '20 February 2019', 8]\n"
     ]
    }
   ],
   "source": [
    "studentData.remove('Computer Science')\n",
    "studentData.remove(91.24)\n",
    "print(studentData)"
   ]
  },
  {
   "cell_type": "markdown",
   "metadata": {},
   "source": [
    "### 3.1.5 Remove using pop method\n",
    "\n",
    "1. Last value from list\n",
    "2. value at 3rd index\n",
    "\n",
    "## Sloution (code)"
   ]
  },
  {
   "cell_type": "code",
   "execution_count": 69,
   "metadata": {},
   "outputs": [
    {
     "name": "stdout",
     "output_type": "stream",
     "text": [
      "['Zohaib Ali', 'M. Iqbal', 22, 7, 'University of Agriculture', '20 February 2019']\n"
     ]
    }
   ],
   "source": [
    "studentData.pop(-1)\n",
    "studentData.pop(3)\n",
    "print(studentData)"
   ]
  },
  {
   "cell_type": "markdown",
   "metadata": {},
   "source": [
    "# 4. Multidimensional list tasks \n",
    "\n",
    "## You have given data of an employee\n",
    "\n",
    "employeeData = [[\"Ali\", 35000, \"Software Engineer\"],\n",
    "\t\t\t\t[\"Talha\", 55000, \"Product Manager\"],\n",
    "\t\t\t\t[\"Nasir\", 79000, \"Computer Engineer\"],\n",
    "\t\t\t\t[\"Khalid\", 44000, \"DBA\"]]\n",
    "\n",
    "### 4.1 For loop tasks\n",
    "\n",
    "1. Print name of employees with salaray greater than 50000.\n",
    "2. Calculate total salary of all employees.\n",
    "\n",
    "## Solution (Code)"
   ]
  },
  {
   "cell_type": "code",
   "execution_count": 72,
   "metadata": {},
   "outputs": [
    {
     "name": "stdout",
     "output_type": "stream",
     "text": [
      "Talha\n",
      "Nasir\n",
      "Total salary of all employees = 213000\n"
     ]
    }
   ],
   "source": [
    "employeeData = [[\"Ali\", 35000, \"Software Engineer\"], [\"Talha\", 55000, \"Product Manager\"], \\\n",
    "                [\"Nasir\", 79000, \"Computer Engineer\"], [\"Khalid\", 44000, \"DBA\"]]\n",
    "salary = 0\n",
    "for i in employeeData:\n",
    "    salary+= i[1]\n",
    "    if i[1] >50000:\n",
    "        print(i[0])\n",
    "print(\"Total salary of all employees = {}\".format(salary))"
   ]
  },
  {
   "cell_type": "markdown",
   "metadata": {},
   "source": [
    "### 4.2 List update tasks\n",
    "\n",
    "1. Change salary of nasir from 79000 to 90000 and designation to \"Product Manager\"\n",
    "2. Change salary of Khalid to 50000\n",
    "\n",
    "## Solution (Code)"
   ]
  },
  {
   "cell_type": "code",
   "execution_count": 76,
   "metadata": {},
   "outputs": [
    {
     "name": "stdout",
     "output_type": "stream",
     "text": [
      "[['Ali', 35000, 'Software Engineer'], ['Talha', 55000, 'Product Manager'], ['Nasir', 90000, 'Product Manager'], ['Khalid', 50000, 'DBA']]\n"
     ]
    }
   ],
   "source": [
    "employeeData[2][1] = 90000\n",
    "employeeData[2][2] = \"Product Manager\"\n",
    "employeeData[3][1] = 50000\n",
    "print(employeeData)"
   ]
  },
  {
   "cell_type": "markdown",
   "metadata": {},
   "source": [
    "# 5. Login User\n",
    "\n",
    "You have given some users data. You have to write a script to check if username and password are correct. If username and password are correct. Then you have to check if email is verified or not. If it is verified then print Login Succeed else print Email not verified. If username or password are incorrect you have to print Incorrect Login details\n",
    "\n",
    "##  5.1 Data 1\n",
    "username = \"faizan1214\"<br>\n",
    "password = \"qwerty\"<br>\n",
    "emailVerified = False\n",
    "\n",
    "## Solution (Code)"
   ]
  },
  {
   "cell_type": "markdown",
   "metadata": {},
   "source": [
    "### Testing using Wrong credentials"
   ]
  },
  {
   "cell_type": "code",
   "execution_count": 81,
   "metadata": {},
   "outputs": [
    {
     "name": "stdout",
     "output_type": "stream",
     "text": [
      "Please Enter the username Humayl\n",
      "Please Enter the password 12345\n",
      "Wrong Credentials\n"
     ]
    }
   ],
   "source": [
    "# Data 1\n",
    "username = \"faizan1214\"\n",
    "password = \"qwerty\"\n",
    "emailVerified = False\n",
    "\n",
    "checkusername = input(\"Please Enter the username \")\n",
    "checkpassword = input(\"Please Enter the password \")\n",
    "if checkusername == username and password == checkpassword :\n",
    "    if emailVerified:\n",
    "        print(\"Login Success\")\n",
    "    else:\n",
    "        print(\"Account not varified\")\n",
    "else:\n",
    "    print(\"Wrong Credentials\")"
   ]
  },
  {
   "cell_type": "markdown",
   "metadata": {},
   "source": [
    "### Testing using Correct credentials"
   ]
  },
  {
   "cell_type": "code",
   "execution_count": 79,
   "metadata": {},
   "outputs": [
    {
     "name": "stdout",
     "output_type": "stream",
     "text": [
      "Please Enter the username faizan1214\n",
      "Please Enter the password qwerty\n",
      "Account not varified\n"
     ]
    }
   ],
   "source": [
    "# Data 1\n",
    "username = \"faizan1214\"\n",
    "password = \"qwerty\"\n",
    "emailVerified = False\n",
    "\n",
    "checkusername = input(\"Please Enter the username \")\n",
    "checkpassword = input(\"Please Enter the password \")\n",
    "if checkusername == username and password == checkpassword :\n",
    "    if emailVerified:\n",
    "        print(\"Login Success\")\n",
    "    else:\n",
    "        print(\"Account not varified\")\n",
    "else:\n",
    "    print(\"Wrong Credentials\")\n"
   ]
  },
  {
   "cell_type": "markdown",
   "metadata": {},
   "source": [
    "## 5.2 Data 2\n",
    "username = \"faizan1214\"<br>\n",
    "password = \"qwerty\"<br>\n",
    "emailVerified = True\n",
    "\n",
    "## Solution (Code)"
   ]
  },
  {
   "cell_type": "code",
   "execution_count": 80,
   "metadata": {},
   "outputs": [
    {
     "name": "stdout",
     "output_type": "stream",
     "text": [
      "Please Enter the username faizan1215\n",
      "Please Enter the password qwerty\n",
      "Login Success\n"
     ]
    }
   ],
   "source": [
    "# Data 2\n",
    "username = \"faizan1215\"\n",
    "password = \"qwerty\"\n",
    "emailVerified = True\n",
    "\n",
    "checkusername = input(\"Please Enter the username \")\n",
    "checkpassword = input(\"Please Enter the password \")\n",
    "if checkusername == username and password == checkpassword :\n",
    "    if emailVerified:\n",
    "        print(\"Login Success\")\n",
    "    else:\n",
    "        print(\"Account not varified\")\n",
    "else:\n",
    "    print(\"Wrong Credentials\")\n"
   ]
  },
  {
   "cell_type": "code",
   "execution_count": null,
   "metadata": {},
   "outputs": [],
   "source": []
  }
 ],
 "metadata": {
  "kernelspec": {
   "display_name": "Python 3",
   "language": "python",
   "name": "python3"
  },
  "language_info": {
   "codemirror_mode": {
    "name": "ipython",
    "version": 3
   },
   "file_extension": ".py",
   "mimetype": "text/x-python",
   "name": "python",
   "nbconvert_exporter": "python",
   "pygments_lexer": "ipython3",
   "version": "3.7.4"
  }
 },
 "nbformat": 4,
 "nbformat_minor": 2
}
