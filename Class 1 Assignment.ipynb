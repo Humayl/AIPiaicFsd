{
 "cells": [
  {
   "cell_type": "markdown",
   "metadata": {},
   "source": [
    "# Class 1 assignment is to write code for formatting string.\n",
    "\n",
    "Store data of a person in four variables such as **name, age, class, university**. Use formatting to output such results.\n",
    "\n",
    "Hello 'Ali Raza'<br>Your application is accepted for Artificial Intelligence in UNIVERSITY_NAME"
   ]
  },
  {
   "cell_type": "code",
   "execution_count": 7,
   "metadata": {},
   "outputs": [
    {
     "name": "stdout",
     "output_type": "stream",
     "text": [
      "Hello'Hamail Zahid'\n",
      "Your application is accepted for Artificial Intelligence in PIAIC\n"
     ]
    }
   ],
   "source": [
    "name,age,_class,university = \"Hamail Zahid\",21,\"AI Batch 4\",\"PIAIC\"\n",
    "print(\"Hello'{}'\".format(name))\n",
    "print(\"Your application is accepted for Artificial Intelligence in \"+university)\n"
   ]
  },
  {
   "cell_type": "code",
   "execution_count": null,
   "metadata": {},
   "outputs": [],
   "source": []
  }
 ],
 "metadata": {
  "kernelspec": {
   "display_name": "Python 3",
   "language": "python",
   "name": "python3"
  },
  "language_info": {
   "codemirror_mode": {
    "name": "ipython",
    "version": 3
   },
   "file_extension": ".py",
   "mimetype": "text/x-python",
   "name": "python",
   "nbconvert_exporter": "python",
   "pygments_lexer": "ipython3",
   "version": "3.7.4"
  }
 },
 "nbformat": 4,
 "nbformat_minor": 2
}
