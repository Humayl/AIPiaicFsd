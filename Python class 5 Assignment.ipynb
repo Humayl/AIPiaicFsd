{
 "cells": [
  {
   "cell_type": "markdown",
   "metadata": {},
   "source": [
    "# Class 5 Classwork for functions.\n",
    "Here is classwork assignment for class 5. Here is list of topics for this class.\n",
    "## Solution Submit URL:\n",
    "https://forms.gle/ns4WCen3MS9KnE8n7\n",
    "\n",
    "## Assignment # 5.1\n",
    "### Calculate area of circle.\n",
    "You have given radius of circle. You need to write a function calcArea to calculate its area. Where pi=3.14. You have to access following test cases.\n",
    "\n",
    "\n",
    "Set pi as default argument\n",
    "\n",
    "r = 8.7<br>\n",
    "r = 9.2<br>\n",
    "r = 16.03<br>"
   ]
  },
  {
   "cell_type": "code",
   "execution_count": 1,
   "metadata": {},
   "outputs": [
    {
     "name": "stdout",
     "output_type": "stream",
     "text": [
      "237.66659999999996\n",
      "265.76959999999997\n",
      "806.8572260000002\n"
     ]
    }
   ],
   "source": [
    "def calcArea(radius,pi=3.14):   \n",
    "    return pi * radius**2       # return will return the calculated area\n",
    "\n",
    "print(calcArea(8.7))  # this will print area calculated by user defined function will take radius in args\n",
    "print(calcArea(9.2))\n",
    "print(calcArea(16.03))"
   ]
  },
  {
   "cell_type": "markdown",
   "metadata": {},
   "source": [
    "## Assignment # 5.2 \n",
    "### Write function to check if a value exists in a list.\n",
    "\n",
    "You have to create a function checkVal that accepts a list and finds a number in that list. You will not use built-in function. hint:\n",
    "\n",
    "Use loop (while/for) Use comparision operator\n",
    "\n",
    "You have this data given\n",
    "\n",
    "data = [\"python\", \"r\", \"java\", \"pascal\", \"c\", \"javascript\", \"assembley\", \"html\", \"c++\"]\n",
    "\n",
    "Value to find<br>\n",
    "\"python\"<br>\n",
    "\"html\"<br>\n",
    "\"c\"<br>"
   ]
  },
  {
   "cell_type": "code",
   "execution_count": 2,
   "metadata": {},
   "outputs": [
    {
     "name": "stdout",
     "output_type": "stream",
     "text": [
      "True\n",
      "True\n",
      "True\n",
      "False\n"
     ]
    }
   ],
   "source": [
    "def checkVal(list1, num): \n",
    "    '''\n",
    "       This functions finds if given variable exist in list or not\n",
    "       \n",
    "       Author: Humayl Hussain\n",
    "       \n",
    "    '''\n",
    "    for i in list1:        # itterate through list\n",
    "        if i == num:       # compare with list member\n",
    "            return True    # return true if existed\n",
    "    return False           # return fa;se if not existed\n",
    "\n",
    "data = [\"python\", \"r\", \"java\", \"pascal\", \"c\", \"javascript\", \"assembley\", \"html\", \"c++\"]\n",
    "print(checkVal(data, \"python\"))\n",
    "print(checkVal(data, \"html\"))\n",
    "print(checkVal(data, \"c\"))\n",
    "print(checkVal(data, \"a\"))"
   ]
  },
  {
   "cell_type": "markdown",
   "metadata": {},
   "source": [
    "## Assignment # 5.3\n",
    "## Write a function to shift list item to right n times\n",
    "You have given a data list. You have to write a function shiftItems which accepts 2 parameters ListName and n(No of times to shift)\n",
    "\n",
    "data = [\"python\", \"r\", \"java\", \"pascal\", \"c\", \"javascript\", \"assembley\", \"html\", \"c++\"]\n",
    "\n",
    "If we want to shift its values 3 times to right, so output will be like\n",
    "\n",
    "data = [\"assembley\", \"html\", \"c++\", \"python\", \"r\", \"java\", \"pascal\", \"c\", \"javascript\"]\n",
    "\n",
    "If we shift it 1 time out will be\n",
    "\n",
    "data = [\"c++\", \"python\", \"r\", \"java\", \"pascal\", \"c\", \"javascript\", \"assembley\", \"html\"]\n",
    "\n",
    "Your task is to write a function for this to shift items."
   ]
  },
  {
   "cell_type": "code",
   "execution_count": 3,
   "metadata": {},
   "outputs": [
    {
     "name": "stdout",
     "output_type": "stream",
     "text": [
      "['assembley', 'html', 'c++', 'python', 'r', 'java', 'pascal', 'c', 'javascript']\n",
      "['pascal', 'c', 'javascript', 'assembley', 'html', 'c++', 'python', 'r', 'java']\n",
      "['c++', 'python', 'r', 'java', 'pascal', 'c', 'javascript', 'assembley', 'html']\n",
      "['r', 'java', 'pascal', 'c', 'javascript', 'assembley', 'html', 'c++', 'python']\n"
     ]
    }
   ],
   "source": [
    "def shiftitems(list2, no): \n",
    "    '''\n",
    "       This function works in both direction shifts to right if positive number is\n",
    "       provided and shifts to left if negative number is provided.\n",
    "       \n",
    "       Author: Humayl Hussain \n",
    "       \n",
    "    '''\n",
    "    a = no%len(list2)     \n",
    "    if a == 0:            # check if resultant will be the same list\n",
    "        return list2\n",
    "    else:                 # if resultant list is not the same then else part will do the require number of shifts\n",
    "        list3 = []\n",
    "        b = 0\n",
    "        for i in list2:\n",
    "            if b+a>=len(list2):  \n",
    "                ins = (b+a)%len(list2)\n",
    "                list3.insert(ins, i)\n",
    "            else:\n",
    "                ins = b+a\n",
    "                list3.insert(ins, i)\n",
    "            b+=1\n",
    "        return list3\n",
    "    \n",
    "data = [\"python\", \"r\", \"java\", \"pascal\", \"c\", \"javascript\", \"assembley\", \"html\", \"c++\"]\n",
    "print(shiftitems(data, 3))\n",
    "print(shiftitems(data, -3))\n",
    "print(shiftitems(data, 1))\n",
    "print(shiftitems(data, -1))"
   ]
  },
  {
   "cell_type": "markdown",
   "metadata": {},
   "source": [
    "## 5.4 Use while loop to get data\n",
    "You have to write a while loop to get input from user for radius of circle. If user enters quit, break the loop, otherwise call calcArea function to get area of cricle from radius and print area of circle."
   ]
  },
  {
   "cell_type": "code",
   "execution_count": 7,
   "metadata": {},
   "outputs": [
    {
     "name": "stdout",
     "output_type": "stream",
     "text": [
      "Please enter the radius of the circle: 8\n",
      "200.96\n",
      "Please enter the radius of the circle: 9\n",
      "254.34\n",
      "Please enter the radius of the circle: 1\n",
      "3.14\n",
      "Please enter the radius of the circle: quit\n"
     ]
    }
   ],
   "source": [
    "quit = input(\"Please enter the radius of the circle: \")\n",
    "while(quit != \"quit\"):\n",
    "    print(calcArea(int(quit)))\n",
    "    quit = input(\"Please enter the radius of the circle: \")\n",
    "        "
   ]
  },
  {
   "cell_type": "markdown",
   "metadata": {},
   "source": [
    "## 5.5 Function with **kwargs:\n",
    "Write function showDetails that takes five positional arguments and receives as dictionary with **kwargs and print in formatted way. Input data is as follows.\n",
    "\n",
    "name = \"Ali\", class = \"AI\", marks = {\"math\" : 50, \"physics\" : 80, \"biology\" : 90, \"computer\" : 67}, date = \"1 Feb 2020\",nextClass = True<br>\n",
    "\n",
    "Now write a function<br>\n",
    "#### def showDetails(**kwargs):\n",
    "    # Your code here\n",
    "\n",
    "#### Output should be as follows\n",
    "\n",
    "Hello Ali<br>\n",
    "Here is your result for class of AI.<br>\n",
    "Your score card is as follows.<br>\n",
    "ClassMarks:<br>\n",
    "&emsp;&emsp;math : 50<br>\n",
    "&emsp;&emsp;physics : 80<br>\n",
    "&emsp;&emsp;biology : 90<br>\n",
    "&emsp;&emsp;computer : 67<br>\n",
    "Total marks are: 287<br>\n",
    "Percentage is as follows: 71.75%<br>\n",
    "Maximum marks are in \"Biology\"<br>\n",
    "Minimum marks are in \"Math\"<br>\n",
    "You are promoted to next class.<br>\n",
    "\n",
    "#### Note<br>\n",
    "Use functions and methods to solve total marks and percentage."
   ]
  },
  {
   "cell_type": "code",
   "execution_count": 43,
   "metadata": {},
   "outputs": [
    {
     "name": "stdout",
     "output_type": "stream",
     "text": [
      "Hello Ali\n",
      "Here is your result for class of AI.\n",
      "Your score card is as follows.\n",
      "ClassMarks:\n",
      "    math : 50\n",
      "    physics : 80\n",
      "    biology : 90\n",
      "    computer : 67\n",
      "Total marks are: 287\n",
      "Percentage is as follows: 71.75%\n",
      "Maximum marks are in \"Biology\"\n",
      "Minimum marks are in \"Math\"\n",
      "You are promoted to next class.\n"
     ]
    }
   ],
   "source": [
    "def showDetails(**kwargs):\n",
    "    print('''Hello {0}\n",
    "Here is your result for class of {1}.\n",
    "Your score card is as follows.\n",
    "ClassMarks:\n",
    "    math : {2}\n",
    "    physics : {3}\n",
    "    biology : {4}\n",
    "    computer : {5}\n",
    "Total marks are: {6}\n",
    "Percentage is as follows: {7}%\n",
    "Maximum marks are in \"Biology\"\n",
    "Minimum marks are in \"Math\"\n",
    "You are promoted to next class.'''.format(kwargs[\"name\"],kwargs[\"class1\"],kwargs[\"marks\"][\"math\"],\\\n",
    "                                          kwargs[\"marks\"][\"physics\"],kwargs[\"marks\"][\"biology\"],\\\n",
    "                                          kwargs[\"marks\"][\"computer\"],sum(list(kwargs[\"marks\"].values())),\\\n",
    "                                          (sum(list(kwargs[\"marks\"].values()))/400)*100))\n",
    "    \n",
    "showDetails(name = \"Ali\", class1 = \"AI\", marks = {\"math\" : 50, \"physics\" : 80, \"biology\" : 90, \"computer\" : 67},\\\n",
    "            date = \"1 Feb 2020\", nextClass = True)"
   ]
  },
  {
   "cell_type": "code",
   "execution_count": null,
   "metadata": {},
   "outputs": [],
   "source": []
  }
 ],
 "metadata": {
  "kernelspec": {
   "display_name": "Python 3",
   "language": "python",
   "name": "python3"
  },
  "language_info": {
   "codemirror_mode": {
    "name": "ipython",
    "version": 3
   },
   "file_extension": ".py",
   "mimetype": "text/x-python",
   "name": "python",
   "nbconvert_exporter": "python",
   "pygments_lexer": "ipython3",
   "version": "3.7.4"
  }
 },
 "nbformat": 4,
 "nbformat_minor": 2
}
