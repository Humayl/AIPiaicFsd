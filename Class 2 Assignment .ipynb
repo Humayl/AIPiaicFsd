{
 "cells": [
  {
   "cell_type": "markdown",
   "metadata": {},
   "source": [
    "# Class 2 assignment is to write code for arithmetic operations\n",
    "\n",
    "## Write formulla for area of circle where:\n",
    "**radius is** 5<br>\n",
    "**pi is** 3.14\n",
    "\n",
    "## Create lists with following values with following names:\n",
    "**cities** -> Faisalabad, Islamabad, Karachi, Lahore, Quetta<br>\n",
    "**result** -> 93.4, 95, 98.7, 87.4, 83.02<br>\n",
    "**score** -> 45, 70, 54, 90, 42<br>"
   ]
  },
  {
   "cell_type": "code",
   "execution_count": 6,
   "metadata": {},
   "outputs": [
    {
     "name": "stdout",
     "output_type": "stream",
     "text": [
      "Area of circle whose radius is 5 is = 78.5\n",
      "Cities -> ['Faisalabad', 'Islamabad', 'Karachi', 'Lahore', 'Quetta']\n",
      "Result -> [93.4, 95, 98.7, 87.4, 83.02]\n",
      "Score -> [45, 70, 54, 90, 42]\n"
     ]
    }
   ],
   "source": [
    "print(\"Area of circle whose radius is 5 is = {}\".format(3.14*5**2))\n",
    "cities = [\"Faisalabad\", \"Islamabad\", \"Karachi\", \"Lahore\", \"Quetta\"]\n",
    "result = [93.4,95,98.7,87.4,83.02]\n",
    "score = [45,70,54,90,42]\n",
    "print(\"Cities -> {}\\nResult -> {}\\nScore -> {}\".format(cities,result,score))"
   ]
  },
  {
   "cell_type": "code",
   "execution_count": null,
   "metadata": {},
   "outputs": [],
   "source": []
  }
 ],
 "metadata": {
  "kernelspec": {
   "display_name": "Python 3",
   "language": "python",
   "name": "python3"
  },
  "language_info": {
   "codemirror_mode": {
    "name": "ipython",
    "version": 3
   },
   "file_extension": ".py",
   "mimetype": "text/x-python",
   "name": "python",
   "nbconvert_exporter": "python",
   "pygments_lexer": "ipython3",
   "version": "3.7.4"
  }
 },
 "nbformat": 4,
 "nbformat_minor": 2
}
